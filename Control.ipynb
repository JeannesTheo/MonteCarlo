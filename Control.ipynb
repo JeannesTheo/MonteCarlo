{
 "cells": [
  {
   "cell_type": "markdown",
   "metadata": {
    "deletable": true,
    "editable": true,
    "ExecuteTime": {
     "end_time": "2023-10-16T13:59:47.606505751Z",
     "start_time": "2023-10-16T13:59:47.557213403Z"
    }
   },
   "source": [
    "# Monte Carlo Control"
   ]
  },
  {
   "cell_type": "code",
   "execution_count": null,
   "metadata": {
    "collapsed": true,
    "deletable": true,
    "editable": true
   },
   "outputs": [],
   "source": [
    "import sys\n",
    "import gym\n",
    "import numpy as np\n",
    "from collections import defaultdict\n",
    "from plot_utils import plot_blackjack_values, plot_policy"
   ]
  },
  {
   "cell_type": "code",
   "execution_count": null,
   "metadata": {
    "collapsed": true,
    "deletable": true,
    "editable": true
   },
   "outputs": [],
   "source": [
    "env = gym.make('Blackjack-v1')"
   ]
  },
  {
   "cell_type": "code",
   "execution_count": null,
   "metadata": {
    "collapsed": true,
    "deletable": true,
    "editable": true
   },
   "outputs": [],
   "source": [
    "\"\"\"\n",
    "    Get the probability of taking the best known action according to epsilon.\n",
    "    Returns the policy for the Q value given\n",
    "\"\"\"\n",
    "def get_probs(Q_s, epsilon, nA):\n",
    "    policy_s = np.ones(nA) * epsilon / nA\n",
    "    best_a = np.argmax(Q_s)\n",
    "    policy_s[best_a] = 1 - epsilon + (epsilon / nA)\n",
    "    return policy_s\n",
    "\n",
    " \"\"\"\n",
    "    returns the best actions for each Q value in the policy\n",
    "    \"\"\"\n",
    "def best_policy(Q):\n",
    "    return dict((k,np.argmax(v)) for k, v in Q.items())\n",
    "\"\"\"\n",
    "    Creates a greedy policy based on Q values.\n",
    "    \n",
    "    Args:\n",
    "        Q: A dictionary that maps from state -> action values\n",
    "        \n",
    "    Returns:\n",
    "        A function that takes an observation as input and returns a vector\n",
    "        of action probabilities.\n",
    "\"\"\"\n",
    "def create_greedy_policy(Q):   \n",
    "    def policy_fn(state):\n",
    "        A = np.zeros_like(Q[state], dtype=float)\n",
    "        best_action = np.argmax(Q[state])\n",
    "        A[best_action] = 1.0\n",
    "        return A\n",
    "    return policy_fn\n",
    "\n",
    "def epsilon_greedy(Q, epsilon, nA):\n",
    "    if np.random.rand() < epsilon:\n",
    "        return np.random.choice(nA)  # Choose a random action with probability epsilon\n",
    "    else:\n",
    "        return np.argmax(Q)  # Choose the action with the highest estimated value according to Q\n",
    "\n",
    "\"\"\"\n",
    "    Creates a random policy function.\n",
    "    \n",
    "    Args:\n",
    "        nA: Number of actions in the environment.\n",
    "    \n",
    "    Returns:\n",
    "        A function that takes an observation as input and returns a vector\n",
    "        of action probabilities\n",
    "    \"\"\"\n",
    "def create_random_policy(nA): # Policy where all actions are equally likely \n",
    "    A = np.ones(nA, dtype=float) / nA\n",
    "    def policy_fn():\n",
    "        return A\n",
    "    return policy_fn"
   ]
  },
  {
   "cell_type": "code",
   "execution_count": null,
   "metadata": {
    "collapsed": true,
    "deletable": true,
    "editable": true
   },
   "outputs": [],
   "source": [
    "\"\"\"\n",
    "    Calculate the new Q values for the actions taken in the given episode.\n",
    "    Returns the new Q policy\n",
    "\"\"\" \n",
    "\n",
    "def update_Q_first_visit(episode, Q, alpha, gamma):\n",
    "    visited = set()  # Keep track of visited state-action pairs\n",
    "    for t, (state, action, reward) in enumerate(episode):\n",
    "        if (state, action) not in visited:\n",
    "            G = sum([x[2]*(gamma**i) for i,x in enumerate(episode[t:])])\n",
    "            Q[state][action] = Q[state][action] + alpha*(G - Q[state][action])\n",
    "            visited.add((state, action))\n",
    "    return Q\n",
    "\n",
    "def update_Q_every_visit(episode, Q, alpha, gamma):\n",
    "    for t, (state, action, reward) in enumerate(episode):\n",
    "        G = sum([x[2]*(gamma**i) for i,x in enumerate(episode[t:])])\n",
    "        Q[state][action] = Q[state][action] + alpha*(G - Q[state][action])\n",
    "    return Q\n",
    "\n",
    "def update_Q_wis(C, Q, behavior_policy, episode, gamma, states, target_policy):\n",
    "    # Sum of discounted returns\n",
    "    G = 0.0\n",
    "    # The importance sampling ratio (the weights of the returns)\n",
    "    weight_ratio = 1.0\n",
    "    # For each step in the episode, backwards\n",
    "    for t in range(len(episode))[::-1]:\n",
    "        state, action, reward = episode[t]\n",
    "        states.add(state)\n",
    "        # Update the total reward since step t\n",
    "        G = gamma * G + reward\n",
    "        # Update weighted importance sampling formula denominator\n",
    "        C[state][action] += weight_ratio\n",
    "        # This also improves our target policy which holds a reference to Q\n",
    "        Q[state][action] += (weight_ratio / C[state][action]) * (G - Q[state][action])\n",
    "        # If the action taken by the behavior policy is not the action \n",
    "        # taken by the target policy the probability will be 0 and we can break\n",
    "        if action != np.argmax(target_policy(state)):\n",
    "            break\n",
    "        weight_ratio = weight_ratio * 1. / behavior_policy(state)[action]\n",
    "    return Q,C,states"
   ]
  },
  {
   "cell_type": "code",
   "execution_count": null,
   "outputs": [],
   "source": [
    "def play_game_first_visit(env, Q, epsilon, nA):\n",
    "    episode = []\n",
    "    state = env.reset()\n",
    "    visited = set()  # Keep track of visited state-action pairs\n",
    "    terminated = False\n",
    "    while not terminated:\n",
    "        if type(state[0]) == tuple:\n",
    "            state = state[0]\n",
    "        action = epsilon_greedy(Q[state], epsilon, nA)\n",
    "        next_state, reward, terminated, truncated,info = env.step(action)\n",
    "        if (state, action) not in visited:\n",
    "            episode.append((state, action, reward))\n",
    "        visited.add((state, action))  # Mark this state-action pair as visited\n",
    "        state = next_state    \n",
    "    return episode\n",
    "\n",
    "def play_game_every_visit(env, Q, epsilon, nA):\n",
    "    episode = []\n",
    "    state = env.reset()\n",
    "    terminated = False\n",
    "    while not terminated:\n",
    "        if type(state[0]) == tuple:\n",
    "            state = state[0]\n",
    "        action = epsilon_greedy(Q[state], epsilon, nA)\n",
    "        next_state, reward, terminated, truncated,info  = env.step(action)\n",
    "        episode.append((state, action, reward))\n",
    "        \n",
    "        state = next_state    \n",
    "    return episode\n",
    "\n",
    "def play_game_wis(behavior_policy, env):\n",
    "    episode = []\n",
    "    state = env.reset()\n",
    "    terminated = False\n",
    "    while not terminated:\n",
    "        if type(state[0]) == tuple:\n",
    "            state = state[0]\n",
    "        probs = behavior_policy(state)\n",
    "        action = np.random.choice(np.arange(len(probs)), p=probs)\n",
    "        next_state, reward, terminated, trunc, info = env.step(action)\n",
    "        episode.append((state, action, reward))\n",
    "        state = next_state\n",
    "    return episode"
   ],
   "metadata": {
    "collapsed": false
   }
  },
  {
   "cell_type": "code",
   "execution_count": null,
   "metadata": {
    "collapsed": true,
    "deletable": true,
    "editable": true
   },
   "outputs": [],
   "source": [
    " \"\"\"\n",
    "    main method. Iterates through episodes updating epsilon after each, retrieves the list of states, actions\n",
    "    and rewards from the last episode and use them to calculate the updated Q values\n",
    "    \"\"\"\n",
    "def mc_control(env, num_episodes,first_visit=True,gamma=.8): \n",
    "    epsilon = .8\n",
    "    eps_min = 0.01\n",
    "    decay = 0.99\n",
    "    alpha = 0.001\n",
    "    \n",
    "    nA = env.action_space.n\n",
    "    Q = defaultdict(lambda: np.zeros(nA))\n",
    "    for i_episode in range(1, num_episodes+1):\n",
    "        if i_episode % 1000 == 0:\n",
    "            print(\"\\rEpisode {}/{}.\".format(i_episode, num_episodes), end=\"\")\n",
    "            sys.stdout.flush()\n",
    "        epsilon = max(epsilon*decay, eps_min)\n",
    "        if first_visit:\n",
    "            episode = play_game_first_visit(env, Q, epsilon, nA)\n",
    "            Q = update_Q_first_visit(episode, Q, alpha, gamma)\n",
    "        else:\n",
    "            episode = play_game_every_visit(env, Q, epsilon, nA)\n",
    "            Q = update_Q_every_visit(episode, Q, alpha, gamma)\n",
    "    policy = best_policy(Q)\n",
    "    return policy, Q\n",
    "\n",
    "\"\"\"\n",
    "    Monte Carlo Control Off-Policy Control using Weighted Importance Sampling.\n",
    "    Finds an optimal greedy policy.\n",
    "    \n",
    "    Args:\n",
    "        env: OpenAI gym environment.\n",
    "        num_episodes: Number of episodes to sample.\n",
    "        behavior_policy: The behavior to follow while generating episodes.\n",
    "            A function that given an observation returns a vector of probabilities for each action.\n",
    "        discount_factor: Gamma discount factor.\n",
    "    \n",
    "    Returns:\n",
    "        A tuple (Q, policy).\n",
    "        Q is a dictionary mapping state -> action values.\n",
    "        policy is a function that takes an observation as an argument and returns\n",
    "        action probabilities. This is the optimal greedy policy.\n",
    "    \"\"\"\n",
    "def mc_control_importance_sampling(env, num_episodes, behavior_policy, gamma =.8):\n",
    "    \n",
    "    # The final action-value function.\n",
    "    nA = env.action_space.n\n",
    "    Q = defaultdict(lambda: np.zeros(nA))\n",
    "    # The cumulative denominator of the weighted importance sampling formula,across all episodes\n",
    "    C = defaultdict(lambda: np.zeros(nA))\n",
    "    states = set()\n",
    "    # Our greedily policy we want to learn\n",
    "    target_policy = create_greedy_policy(Q)\n",
    "        \n",
    "    for i_episode in range(1, num_episodes + 1):\n",
    "        # Print out which episode we're on\n",
    "        if i_episode % 1000 == 0:\n",
    "            print(\"\\rEpisode {}/{}.\".format(i_episode, num_episodes), end=\"\")\n",
    "            sys.stdout.flush()\n",
    "        # Generate an episode.\n",
    "        episode = play_game_wis(behavior_policy, env)\n",
    "        Q,C,states = update_Q_wis(C, Q, behavior_policy, episode, gamma, states, target_policy)\n",
    "\n",
    "    return target_policy, Q,states"
   ]
  },
  {
   "cell_type": "code",
   "execution_count": null,
   "metadata": {
    "collapsed": false,
    "deletable": true,
    "editable": true
   },
   "outputs": [],
   "source": [
    "def launch_monte_carlo(nb_episodes, first_visit=True):\n",
    "    policy, Q = mc_control(env, nb_episodes, first_visit)\n",
    "    V = dict((k,np.max(v)) for k, v in Q.items())\n",
    "    plot_blackjack_values(V)\n",
    "    new_policy = {}\n",
    "    for key,value in policy.items():\n",
    "        new_policy[(key[1],key[0],key[2])] = value\n",
    "    plot_policy(new_policy)"
   ]
  },
  {
   "cell_type": "code",
   "execution_count": null,
   "outputs": [],
   "source": [
    "launch_monte_carlo(500000)"
   ],
   "metadata": {
    "collapsed": false
   }
  },
  {
   "cell_type": "code",
   "execution_count": null,
   "outputs": [],
   "source": [
    "launch_monte_carlo(500000, False)"
   ],
   "metadata": {
    "collapsed": false
   }
  },
  {
   "cell_type": "code",
   "execution_count": null,
   "outputs": [],
   "source": [
    "def display_policy_wis(policy_function):\n",
    "    weighted_policy = {(i[1], i[0], i[2]): np.argmax(policy_function(i)) for i in states_weighted}\n",
    "    plot_policy(weighted_policy)"
   ],
   "metadata": {
    "collapsed": false
   }
  },
  {
   "cell_type": "code",
   "execution_count": null,
   "outputs": [],
   "source": [
    "random_policy = create_random_policy(env.action_space.n)\n",
    "\n",
    "def launch_monte_carlo_wis(behavior_policy,nb_episodes=500000, gamma=.8):\n",
    "    global states_weighted\n",
    "    policy_weighted, Q_weighted, states_weighted = mc_control_importance_sampling(env, nb_episodes, behavior_policy,gamma)\n",
    "    V_weigthed = dict((k, np.max(v)) for k, v in Q_weighted.items())\n",
    "    plot_blackjack_values(V_weigthed)\n",
    "    display_policy_wis(policy_weighted)\n",
    "\n",
    "launch_monte_carlo_wis(random_policy)"
   ],
   "metadata": {
    "collapsed": false
   }
  }
 ],
 "metadata": {
  "kernelspec": {
   "name": "python3",
   "language": "python",
   "display_name": "Python 3 (ipykernel)"
  },
  "language_info": {
   "codemirror_mode": {
    "name": "ipython",
    "version": 2
   },
   "file_extension": ".py",
   "mimetype": "text/x-python",
   "name": "python",
   "nbconvert_exporter": "python",
   "pygments_lexer": "ipython2",
   "version": "2.7.13"
  }
 },
 "nbformat": 4,
 "nbformat_minor": 2
}
